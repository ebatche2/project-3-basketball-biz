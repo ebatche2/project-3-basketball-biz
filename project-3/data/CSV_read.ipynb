{
 "cells": [
  {
   "cell_type": "code",
   "execution_count": 11,
   "id": "323c41fc",
   "metadata": {},
   "outputs": [],
   "source": [
    "import csv_to_sqlite"
   ]
  },
  {
   "cell_type": "code",
   "execution_count": 9,
   "id": "f933bb58",
   "metadata": {},
   "outputs": [
    {
     "name": "stdout",
     "output_type": "stream",
     "text": [
      "\n",
      "Error on table NBAstadiums.csv: \n",
      " table [NBAstadiums] already exists\n",
      "Error on table ranking.csv: \n",
      " table [ranking] already exists\n",
      "Error on table teams_info.csv: \n",
      " table [teams_info] already exists\n",
      "Error on table ForbesBusinessRankings.csv: \n",
      " [Errno 2] No such file or directory: 'ForbesBusinessRankings.csv'\n",
      "Error on table StadiumArenaRankings.csv: \n",
      " [Errno 2] No such file or directory: 'StadiumArenaRankings.csv'\n",
      "Written 0 rows into 5 tables in 0.570 seconds\n"
     ]
    },
    {
     "data": {
      "text/plain": [
       "0"
      ]
     },
     "execution_count": 9,
     "metadata": {},
     "output_type": "execute_result"
    }
   ],
   "source": [
    "# all the usual options are supported\n",
    "options = csv_to_sqlite.CsvOptions(typing_style=\"full\")#, encoding=\"windows-1250\") \n",
    "input_files = [\"NBAstadiums.csv\",\"ranking.csv\",\"teams_info.csv\",] # pass in a list of CSV files\n",
    "csv_to_sqlite.write_csv(input_files, \"basketbal2.sqlite\", options)"
   ]
  },
  {
   "cell_type": "code",
   "execution_count": 12,
   "id": "ab811b39",
   "metadata": {},
   "outputs": [
    {
     "name": "stdout",
     "output_type": "stream",
     "text": [
      "\n",
      "Error on table ForbesBusinessRankings.csv: \n",
      " [Errno 2] No such file or directory: 'ForbesBusinessRankings.csv'\n",
      "Error on table StadiumArenaRankings.csv: \n",
      " [Errno 2] No such file or directory: 'StadiumArenaRankings.csv'\n",
      "Written 0 rows into 2 tables in 0.004 seconds\n"
     ]
    },
    {
     "data": {
      "text/plain": [
       "0"
      ]
     },
     "execution_count": 12,
     "metadata": {},
     "output_type": "execute_result"
    }
   ],
   "source": [
    "options = csv_to_sqlite.CsvOptions(typing_style=\"full\")#, encoding=\"windows-1250\") \n",
    "input_files = [\"ForbesBusinessRankings.csv\",\"StadiumArenaRankings.csv\"] # pass in a list of CSV files\n",
    "csv_to_sqlite.write_csv(input_files, \"basketballbusiness.sqlite\", options)"
   ]
  },
  {
   "cell_type": "code",
   "execution_count": 13,
   "id": "f4a88288",
   "metadata": {},
   "outputs": [
    {
     "ename": "OperationalError",
     "evalue": "no such table: NBAStadiums",
     "output_type": "error",
     "traceback": [
      "\u001b[0;31m---------------------------------------------------------------------------\u001b[0m",
      "\u001b[0;31mOperationalError\u001b[0m                          Traceback (most recent call last)",
      "Cell \u001b[0;32mIn[13], line 4\u001b[0m\n\u001b[1;32m      2\u001b[0m con \u001b[38;5;241m=\u001b[39m sqlite3\u001b[38;5;241m.\u001b[39mconnect(\u001b[38;5;124m\"\u001b[39m\u001b[38;5;124mbasketball.sqlite\u001b[39m\u001b[38;5;124m\"\u001b[39m)\n\u001b[1;32m      3\u001b[0m cur \u001b[38;5;241m=\u001b[39m con\u001b[38;5;241m.\u001b[39mcursor()\n\u001b[0;32m----> 4\u001b[0m \u001b[43mcur\u001b[49m\u001b[38;5;241;43m.\u001b[39;49m\u001b[43mexecute\u001b[49m\u001b[43m(\u001b[49m\u001b[38;5;124;43m\"\u001b[39;49m\u001b[38;5;124;43mSELECT * FROM \u001b[39;49m\u001b[38;5;124;43m'\u001b[39;49m\u001b[38;5;124;43mNBAStadiums\u001b[39;49m\u001b[38;5;124;43m'\u001b[39;49m\u001b[38;5;124;43m LIMIT 0,30\u001b[39;49m\u001b[38;5;124;43m\"\u001b[39;49m\u001b[43m)\u001b[49m\u001b[38;5;241m.\u001b[39mfetchall()\n",
      "\u001b[0;31mOperationalError\u001b[0m: no such table: NBAStadiums"
     ]
    }
   ],
   "source": [
    "import sqlite3\n",
    "con = sqlite3.connect(\"basketball.sqlite\")\n",
    "cur = con.cursor()\n",
    "cur.execute(\"SELECT * FROM 'NBAStadiums' LIMIT 0,30\").fetchall()"
   ]
  },
  {
   "cell_type": "code",
   "execution_count": null,
   "id": "0483ad00",
   "metadata": {},
   "outputs": [],
   "source": []
  }
 ],
 "metadata": {
  "kernelspec": {
   "display_name": "Python 3 (ipykernel)",
   "language": "python",
   "name": "python3"
  },
  "language_info": {
   "codemirror_mode": {
    "name": "ipython",
    "version": 3
   },
   "file_extension": ".py",
   "mimetype": "text/x-python",
   "name": "python",
   "nbconvert_exporter": "python",
   "pygments_lexer": "ipython3",
   "version": "3.10.9"
  }
 },
 "nbformat": 4,
 "nbformat_minor": 5
}
